{
 "cells": [
  {
   "cell_type": "code",
   "metadata": {
    "collapsed": true,
    "ExecuteTime": {
     "end_time": "2025-09-22T13:25:13.897566500Z",
     "start_time": "2025-09-22T13:25:13.544631200Z"
    }
   },
   "source": [
    "fun printHello() {\n",
    "    println(\"hello world\")\n",
    "}\n",
    "\n",
    "printHello()"
   ],
   "outputs": [
    {
     "name": "stdout",
     "output_type": "stream",
     "text": [
      "hello world\r\n"
     ]
    }
   ],
   "execution_count": 1
  },
  {
   "metadata": {
    "ExecuteTime": {
     "end_time": "2025-09-22T13:26:24.067045600Z",
     "start_time": "2025-09-22T13:26:23.787745700Z"
    }
   },
   "cell_type": "code",
   "source": "1+1",
   "outputs": [
    {
     "data": {
      "text/plain": [
       "2"
      ]
     },
     "execution_count": 2,
     "metadata": {},
     "output_type": "execute_result"
    }
   ],
   "execution_count": 2
  },
  {
   "metadata": {
    "ExecuteTime": {
     "end_time": "2025-09-22T13:27:06.089832Z",
     "start_time": "2025-09-22T13:27:05.872581800Z"
    }
   },
   "cell_type": "code",
   "source": "val i: Int = 6",
   "outputs": [],
   "execution_count": 3
  },
  {
   "metadata": {
    "ExecuteTime": {
     "end_time": "2025-09-22T13:27:51.870355600Z",
     "start_time": "2025-09-22T13:27:51.479244800Z"
    }
   },
   "cell_type": "code",
   "source": [
    "val b1 = i.toByte()\n",
    "print(b1)"
   ],
   "outputs": [
    {
     "name": "stdout",
     "output_type": "stream",
     "text": [
      "6"
     ]
    }
   ],
   "execution_count": 4
  },
  {
   "metadata": {
    "ExecuteTime": {
     "end_time": "2025-09-22T13:29:09.233211Z",
     "start_time": "2025-09-22T13:29:09.123257Z"
    }
   },
   "cell_type": "code",
   "source": [
    "val b2: Byte = 1\n",
    "print(b2)"
   ],
   "outputs": [
    {
     "name": "stdout",
     "output_type": "stream",
     "text": [
      "1"
     ]
    }
   ],
   "execution_count": 6
  },
  {
   "metadata": {
    "ExecuteTime": {
     "end_time": "2025-09-22T13:29:22.201939200Z",
     "start_time": "2025-09-22T13:29:21.998862700Z"
    }
   },
   "cell_type": "code",
   "source": "val i1: Int = b2",
   "outputs": [
    {
     "ename": "org.jetbrains.kotlinx.jupyter.exceptions.ReplCompilerException",
     "evalue": "at Cell In[7], line 1, column 15: Type mismatch: inferred type is Byte but Int was expected",
     "output_type": "error",
     "traceback": [
      "org.jetbrains.kotlinx.jupyter.exceptions.ReplCompilerException: at Cell In[7], line 1, column 15: Type mismatch: inferred type is Byte but Int was expected",
      "\tat org.jetbrains.kotlinx.jupyter.repl.impl.JupyterCompilerImpl.compileSync(JupyterCompilerImpl.kt:151)",
      "\tat org.jetbrains.kotlinx.jupyter.repl.impl.InternalEvaluatorImpl.eval(InternalEvaluatorImpl.kt:126)",
      "\tat org.jetbrains.kotlinx.jupyter.repl.impl.CellExecutorImpl.execute_L4Nmkdk$lambda$0$0(CellExecutorImpl.kt:80)",
      "\tat org.jetbrains.kotlinx.jupyter.repl.impl.ReplForJupyterImpl.withHost(ReplForJupyterImpl.kt:791)",
      "\tat org.jetbrains.kotlinx.jupyter.repl.impl.CellExecutorImpl.execute-L4Nmkdk(CellExecutorImpl.kt:78)",
      "\tat org.jetbrains.kotlinx.jupyter.repl.execution.CellExecutor.execute-L4Nmkdk$default(CellExecutor.kt:14)",
      "\tat org.jetbrains.kotlinx.jupyter.repl.impl.ReplForJupyterImpl.evaluateUserCode-wNURfNM(ReplForJupyterImpl.kt:616)",
      "\tat org.jetbrains.kotlinx.jupyter.repl.impl.ReplForJupyterImpl.evalExImpl(ReplForJupyterImpl.kt:474)",
      "\tat org.jetbrains.kotlinx.jupyter.repl.impl.ReplForJupyterImpl.evalEx$lambda$0(ReplForJupyterImpl.kt:468)",
      "\tat org.jetbrains.kotlinx.jupyter.repl.impl.ReplForJupyterImpl.withEvalContext(ReplForJupyterImpl.kt:450)",
      "\tat org.jetbrains.kotlinx.jupyter.repl.impl.ReplForJupyterImpl.evalEx(ReplForJupyterImpl.kt:467)",
      "\tat org.jetbrains.kotlinx.jupyter.messaging.IdeCompatibleMessageRequestProcessor.processExecuteRequest$lambda$0$0$0(IdeCompatibleMessageRequestProcessor.kt:160)",
      "\tat org.jetbrains.kotlinx.jupyter.streams.BlockingSubstitutionEngine.withDataSubstitution(SubstitutionEngine.kt:70)",
      "\tat org.jetbrains.kotlinx.jupyter.streams.StreamSubstitutionManager.withSubstitutedStreams(StreamSubstitutionManager.kt:118)",
      "\tat org.jetbrains.kotlinx.jupyter.messaging.IdeCompatibleMessageRequestProcessor.withForkedIn(IdeCompatibleMessageRequestProcessor.kt:350)",
      "\tat org.jetbrains.kotlinx.jupyter.messaging.IdeCompatibleMessageRequestProcessor.evalWithIO$lambda$0$0(IdeCompatibleMessageRequestProcessor.kt:363)",
      "\tat org.jetbrains.kotlinx.jupyter.streams.BlockingSubstitutionEngine.withDataSubstitution(SubstitutionEngine.kt:70)",
      "\tat org.jetbrains.kotlinx.jupyter.streams.StreamSubstitutionManager.withSubstitutedStreams(StreamSubstitutionManager.kt:118)",
      "\tat org.jetbrains.kotlinx.jupyter.messaging.IdeCompatibleMessageRequestProcessor.withForkedErr(IdeCompatibleMessageRequestProcessor.kt:340)",
      "\tat org.jetbrains.kotlinx.jupyter.messaging.IdeCompatibleMessageRequestProcessor.evalWithIO$lambda$0(IdeCompatibleMessageRequestProcessor.kt:362)",
      "\tat org.jetbrains.kotlinx.jupyter.streams.BlockingSubstitutionEngine.withDataSubstitution(SubstitutionEngine.kt:70)",
      "\tat org.jetbrains.kotlinx.jupyter.streams.StreamSubstitutionManager.withSubstitutedStreams(StreamSubstitutionManager.kt:118)",
      "\tat org.jetbrains.kotlinx.jupyter.messaging.IdeCompatibleMessageRequestProcessor.withForkedOut(IdeCompatibleMessageRequestProcessor.kt:333)",
      "\tat org.jetbrains.kotlinx.jupyter.messaging.IdeCompatibleMessageRequestProcessor.evalWithIO(IdeCompatibleMessageRequestProcessor.kt:361)",
      "\tat org.jetbrains.kotlinx.jupyter.messaging.IdeCompatibleMessageRequestProcessor.processExecuteRequest$lambda$0$0(IdeCompatibleMessageRequestProcessor.kt:159)",
      "\tat org.jetbrains.kotlinx.jupyter.execution.JupyterExecutorImpl$Task.execute(JupyterExecutorImpl.kt:41)",
      "\tat org.jetbrains.kotlinx.jupyter.execution.JupyterExecutorImpl.executorThread$lambda$0(JupyterExecutorImpl.kt:81)",
      "\tat kotlin.concurrent.ThreadsKt$thread$thread$1.run(Thread.kt:30)",
      ""
     ]
    }
   ],
   "execution_count": 7
  },
  {
   "metadata": {
    "ExecuteTime": {
     "end_time": "2025-09-22T13:29:38.869433400Z",
     "start_time": "2025-09-22T13:29:38.831112400Z"
    }
   },
   "cell_type": "code",
   "source": "val i2: String = b2",
   "outputs": [
    {
     "ename": "org.jetbrains.kotlinx.jupyter.exceptions.ReplCompilerException",
     "evalue": "at Cell In[8], line 1, column 18: Type mismatch: inferred type is Byte but String was expected",
     "output_type": "error",
     "traceback": [
      "org.jetbrains.kotlinx.jupyter.exceptions.ReplCompilerException: at Cell In[8], line 1, column 18: Type mismatch: inferred type is Byte but String was expected",
      "\tat org.jetbrains.kotlinx.jupyter.repl.impl.JupyterCompilerImpl.compileSync(JupyterCompilerImpl.kt:151)",
      "\tat org.jetbrains.kotlinx.jupyter.repl.impl.InternalEvaluatorImpl.eval(InternalEvaluatorImpl.kt:126)",
      "\tat org.jetbrains.kotlinx.jupyter.repl.impl.CellExecutorImpl.execute_L4Nmkdk$lambda$0$0(CellExecutorImpl.kt:80)",
      "\tat org.jetbrains.kotlinx.jupyter.repl.impl.ReplForJupyterImpl.withHost(ReplForJupyterImpl.kt:791)",
      "\tat org.jetbrains.kotlinx.jupyter.repl.impl.CellExecutorImpl.execute-L4Nmkdk(CellExecutorImpl.kt:78)",
      "\tat org.jetbrains.kotlinx.jupyter.repl.execution.CellExecutor.execute-L4Nmkdk$default(CellExecutor.kt:14)",
      "\tat org.jetbrains.kotlinx.jupyter.repl.impl.ReplForJupyterImpl.evaluateUserCode-wNURfNM(ReplForJupyterImpl.kt:616)",
      "\tat org.jetbrains.kotlinx.jupyter.repl.impl.ReplForJupyterImpl.evalExImpl(ReplForJupyterImpl.kt:474)",
      "\tat org.jetbrains.kotlinx.jupyter.repl.impl.ReplForJupyterImpl.evalEx$lambda$0(ReplForJupyterImpl.kt:468)",
      "\tat org.jetbrains.kotlinx.jupyter.repl.impl.ReplForJupyterImpl.withEvalContext(ReplForJupyterImpl.kt:450)",
      "\tat org.jetbrains.kotlinx.jupyter.repl.impl.ReplForJupyterImpl.evalEx(ReplForJupyterImpl.kt:467)",
      "\tat org.jetbrains.kotlinx.jupyter.messaging.IdeCompatibleMessageRequestProcessor.processExecuteRequest$lambda$0$0$0(IdeCompatibleMessageRequestProcessor.kt:160)",
      "\tat org.jetbrains.kotlinx.jupyter.streams.BlockingSubstitutionEngine.withDataSubstitution(SubstitutionEngine.kt:70)",
      "\tat org.jetbrains.kotlinx.jupyter.streams.StreamSubstitutionManager.withSubstitutedStreams(StreamSubstitutionManager.kt:118)",
      "\tat org.jetbrains.kotlinx.jupyter.messaging.IdeCompatibleMessageRequestProcessor.withForkedIn(IdeCompatibleMessageRequestProcessor.kt:350)",
      "\tat org.jetbrains.kotlinx.jupyter.messaging.IdeCompatibleMessageRequestProcessor.evalWithIO$lambda$0$0(IdeCompatibleMessageRequestProcessor.kt:363)",
      "\tat org.jetbrains.kotlinx.jupyter.streams.BlockingSubstitutionEngine.withDataSubstitution(SubstitutionEngine.kt:70)",
      "\tat org.jetbrains.kotlinx.jupyter.streams.StreamSubstitutionManager.withSubstitutedStreams(StreamSubstitutionManager.kt:118)",
      "\tat org.jetbrains.kotlinx.jupyter.messaging.IdeCompatibleMessageRequestProcessor.withForkedErr(IdeCompatibleMessageRequestProcessor.kt:340)",
      "\tat org.jetbrains.kotlinx.jupyter.messaging.IdeCompatibleMessageRequestProcessor.evalWithIO$lambda$0(IdeCompatibleMessageRequestProcessor.kt:362)",
      "\tat org.jetbrains.kotlinx.jupyter.streams.BlockingSubstitutionEngine.withDataSubstitution(SubstitutionEngine.kt:70)",
      "\tat org.jetbrains.kotlinx.jupyter.streams.StreamSubstitutionManager.withSubstitutedStreams(StreamSubstitutionManager.kt:118)",
      "\tat org.jetbrains.kotlinx.jupyter.messaging.IdeCompatibleMessageRequestProcessor.withForkedOut(IdeCompatibleMessageRequestProcessor.kt:333)",
      "\tat org.jetbrains.kotlinx.jupyter.messaging.IdeCompatibleMessageRequestProcessor.evalWithIO(IdeCompatibleMessageRequestProcessor.kt:361)",
      "\tat org.jetbrains.kotlinx.jupyter.messaging.IdeCompatibleMessageRequestProcessor.processExecuteRequest$lambda$0$0(IdeCompatibleMessageRequestProcessor.kt:159)",
      "\tat org.jetbrains.kotlinx.jupyter.execution.JupyterExecutorImpl$Task.execute(JupyterExecutorImpl.kt:41)",
      "\tat org.jetbrains.kotlinx.jupyter.execution.JupyterExecutorImpl.executorThread$lambda$0(JupyterExecutorImpl.kt:81)",
      "\tat kotlin.concurrent.ThreadsKt$thread$thread$1.run(Thread.kt:30)",
      ""
     ]
    }
   ],
   "execution_count": 8
  },
  {
   "metadata": {
    "ExecuteTime": {
     "end_time": "2025-09-22T13:29:48.731507700Z",
     "start_time": "2025-09-22T13:29:48.685973700Z"
    }
   },
   "cell_type": "code",
   "source": "val i3: Double = b2",
   "outputs": [
    {
     "ename": "org.jetbrains.kotlinx.jupyter.exceptions.ReplCompilerException",
     "evalue": "at Cell In[9], line 1, column 18: Type mismatch: inferred type is Byte but Double was expected",
     "output_type": "error",
     "traceback": [
      "org.jetbrains.kotlinx.jupyter.exceptions.ReplCompilerException: at Cell In[9], line 1, column 18: Type mismatch: inferred type is Byte but Double was expected",
      "\tat org.jetbrains.kotlinx.jupyter.repl.impl.JupyterCompilerImpl.compileSync(JupyterCompilerImpl.kt:151)",
      "\tat org.jetbrains.kotlinx.jupyter.repl.impl.InternalEvaluatorImpl.eval(InternalEvaluatorImpl.kt:126)",
      "\tat org.jetbrains.kotlinx.jupyter.repl.impl.CellExecutorImpl.execute_L4Nmkdk$lambda$0$0(CellExecutorImpl.kt:80)",
      "\tat org.jetbrains.kotlinx.jupyter.repl.impl.ReplForJupyterImpl.withHost(ReplForJupyterImpl.kt:791)",
      "\tat org.jetbrains.kotlinx.jupyter.repl.impl.CellExecutorImpl.execute-L4Nmkdk(CellExecutorImpl.kt:78)",
      "\tat org.jetbrains.kotlinx.jupyter.repl.execution.CellExecutor.execute-L4Nmkdk$default(CellExecutor.kt:14)",
      "\tat org.jetbrains.kotlinx.jupyter.repl.impl.ReplForJupyterImpl.evaluateUserCode-wNURfNM(ReplForJupyterImpl.kt:616)",
      "\tat org.jetbrains.kotlinx.jupyter.repl.impl.ReplForJupyterImpl.evalExImpl(ReplForJupyterImpl.kt:474)",
      "\tat org.jetbrains.kotlinx.jupyter.repl.impl.ReplForJupyterImpl.evalEx$lambda$0(ReplForJupyterImpl.kt:468)",
      "\tat org.jetbrains.kotlinx.jupyter.repl.impl.ReplForJupyterImpl.withEvalContext(ReplForJupyterImpl.kt:450)",
      "\tat org.jetbrains.kotlinx.jupyter.repl.impl.ReplForJupyterImpl.evalEx(ReplForJupyterImpl.kt:467)",
      "\tat org.jetbrains.kotlinx.jupyter.messaging.IdeCompatibleMessageRequestProcessor.processExecuteRequest$lambda$0$0$0(IdeCompatibleMessageRequestProcessor.kt:160)",
      "\tat org.jetbrains.kotlinx.jupyter.streams.BlockingSubstitutionEngine.withDataSubstitution(SubstitutionEngine.kt:70)",
      "\tat org.jetbrains.kotlinx.jupyter.streams.StreamSubstitutionManager.withSubstitutedStreams(StreamSubstitutionManager.kt:118)",
      "\tat org.jetbrains.kotlinx.jupyter.messaging.IdeCompatibleMessageRequestProcessor.withForkedIn(IdeCompatibleMessageRequestProcessor.kt:350)",
      "\tat org.jetbrains.kotlinx.jupyter.messaging.IdeCompatibleMessageRequestProcessor.evalWithIO$lambda$0$0(IdeCompatibleMessageRequestProcessor.kt:363)",
      "\tat org.jetbrains.kotlinx.jupyter.streams.BlockingSubstitutionEngine.withDataSubstitution(SubstitutionEngine.kt:70)",
      "\tat org.jetbrains.kotlinx.jupyter.streams.StreamSubstitutionManager.withSubstitutedStreams(StreamSubstitutionManager.kt:118)",
      "\tat org.jetbrains.kotlinx.jupyter.messaging.IdeCompatibleMessageRequestProcessor.withForkedErr(IdeCompatibleMessageRequestProcessor.kt:340)",
      "\tat org.jetbrains.kotlinx.jupyter.messaging.IdeCompatibleMessageRequestProcessor.evalWithIO$lambda$0(IdeCompatibleMessageRequestProcessor.kt:362)",
      "\tat org.jetbrains.kotlinx.jupyter.streams.BlockingSubstitutionEngine.withDataSubstitution(SubstitutionEngine.kt:70)",
      "\tat org.jetbrains.kotlinx.jupyter.streams.StreamSubstitutionManager.withSubstitutedStreams(StreamSubstitutionManager.kt:118)",
      "\tat org.jetbrains.kotlinx.jupyter.messaging.IdeCompatibleMessageRequestProcessor.withForkedOut(IdeCompatibleMessageRequestProcessor.kt:333)",
      "\tat org.jetbrains.kotlinx.jupyter.messaging.IdeCompatibleMessageRequestProcessor.evalWithIO(IdeCompatibleMessageRequestProcessor.kt:361)",
      "\tat org.jetbrains.kotlinx.jupyter.messaging.IdeCompatibleMessageRequestProcessor.processExecuteRequest$lambda$0$0(IdeCompatibleMessageRequestProcessor.kt:159)",
      "\tat org.jetbrains.kotlinx.jupyter.execution.JupyterExecutorImpl$Task.execute(JupyterExecutorImpl.kt:41)",
      "\tat org.jetbrains.kotlinx.jupyter.execution.JupyterExecutorImpl.executorThread$lambda$0(JupyterExecutorImpl.kt:81)",
      "\tat kotlin.concurrent.ThreadsKt$thread$thread$1.run(Thread.kt:30)",
      ""
     ]
    }
   ],
   "execution_count": 9
  },
  {
   "metadata": {
    "ExecuteTime": {
     "end_time": "2025-09-22T13:30:09.192881300Z",
     "start_time": "2025-09-22T13:30:09.056212700Z"
    }
   },
   "cell_type": "code",
   "source": [
    "val i4: Int = b2.toInt()\n",
    "print(i4)"
   ],
   "outputs": [
    {
     "name": "stdout",
     "output_type": "stream",
     "text": [
      "1"
     ]
    }
   ],
   "execution_count": 11
  },
  {
   "metadata": {
    "ExecuteTime": {
     "end_time": "2025-09-22T13:30:33.570024700Z",
     "start_time": "2025-09-22T13:30:33.428186400Z"
    }
   },
   "cell_type": "code",
   "source": [
    "val i5: String = b2.toString()\n",
    "print(i5)"
   ],
   "outputs": [
    {
     "name": "stdout",
     "output_type": "stream",
     "text": [
      "1"
     ]
    }
   ],
   "execution_count": 13
  },
  {
   "metadata": {
    "ExecuteTime": {
     "end_time": "2025-09-22T13:30:52.897783900Z",
     "start_time": "2025-09-22T13:30:52.772003900Z"
    }
   },
   "cell_type": "code",
   "source": [
    "val i6: Double = b2.toDouble()\n",
    "print(i6)"
   ],
   "outputs": [
    {
     "name": "stdout",
     "output_type": "stream",
     "text": [
      "1.0"
     ]
    }
   ],
   "execution_count": 16
  },
  {
   "metadata": {
    "ExecuteTime": {
     "end_time": "2025-09-22T13:32:58.550775300Z",
     "start_time": "2025-09-22T13:32:58.432062100Z"
    }
   },
   "cell_type": "code",
   "source": [
    "val oneMillion = 1_000_000\n",
    "val socialSecurityNumber = 999_99_9999L\n",
    "val hexBytes = 0xFF_EC_DE_5E\n",
    "val bytes = 0b11010010_01101001_10010100_10010010"
   ],
   "outputs": [],
   "execution_count": 17
  },
  {
   "metadata": {
    "ExecuteTime": {
     "end_time": "2025-09-22T13:35:29.939456500Z",
     "start_time": "2025-09-22T13:35:29.877212Z"
    }
   },
   "cell_type": "code",
   "source": [
    "var fish = 1\n",
    "fish = 2\n",
    "val aquarium = 1\n",
    "aquarium = 2"
   ],
   "outputs": [
    {
     "ename": "org.jetbrains.kotlinx.jupyter.exceptions.ReplCompilerException",
     "evalue": "at Cell In[18], line 4, column 1: Val cannot be reassigned",
     "output_type": "error",
     "traceback": [
      "org.jetbrains.kotlinx.jupyter.exceptions.ReplCompilerException: at Cell In[18], line 4, column 1: Val cannot be reassigned",
      "\tat org.jetbrains.kotlinx.jupyter.repl.impl.JupyterCompilerImpl.compileSync(JupyterCompilerImpl.kt:151)",
      "\tat org.jetbrains.kotlinx.jupyter.repl.impl.InternalEvaluatorImpl.eval(InternalEvaluatorImpl.kt:126)",
      "\tat org.jetbrains.kotlinx.jupyter.repl.impl.CellExecutorImpl.execute_L4Nmkdk$lambda$0$0(CellExecutorImpl.kt:80)",
      "\tat org.jetbrains.kotlinx.jupyter.repl.impl.ReplForJupyterImpl.withHost(ReplForJupyterImpl.kt:791)",
      "\tat org.jetbrains.kotlinx.jupyter.repl.impl.CellExecutorImpl.execute-L4Nmkdk(CellExecutorImpl.kt:78)",
      "\tat org.jetbrains.kotlinx.jupyter.repl.execution.CellExecutor.execute-L4Nmkdk$default(CellExecutor.kt:14)",
      "\tat org.jetbrains.kotlinx.jupyter.repl.impl.ReplForJupyterImpl.evaluateUserCode-wNURfNM(ReplForJupyterImpl.kt:616)",
      "\tat org.jetbrains.kotlinx.jupyter.repl.impl.ReplForJupyterImpl.evalExImpl(ReplForJupyterImpl.kt:474)",
      "\tat org.jetbrains.kotlinx.jupyter.repl.impl.ReplForJupyterImpl.evalEx$lambda$0(ReplForJupyterImpl.kt:468)",
      "\tat org.jetbrains.kotlinx.jupyter.repl.impl.ReplForJupyterImpl.withEvalContext(ReplForJupyterImpl.kt:450)",
      "\tat org.jetbrains.kotlinx.jupyter.repl.impl.ReplForJupyterImpl.evalEx(ReplForJupyterImpl.kt:467)",
      "\tat org.jetbrains.kotlinx.jupyter.messaging.IdeCompatibleMessageRequestProcessor.processExecuteRequest$lambda$0$0$0(IdeCompatibleMessageRequestProcessor.kt:160)",
      "\tat org.jetbrains.kotlinx.jupyter.streams.BlockingSubstitutionEngine.withDataSubstitution(SubstitutionEngine.kt:70)",
      "\tat org.jetbrains.kotlinx.jupyter.streams.StreamSubstitutionManager.withSubstitutedStreams(StreamSubstitutionManager.kt:118)",
      "\tat org.jetbrains.kotlinx.jupyter.messaging.IdeCompatibleMessageRequestProcessor.withForkedIn(IdeCompatibleMessageRequestProcessor.kt:350)",
      "\tat org.jetbrains.kotlinx.jupyter.messaging.IdeCompatibleMessageRequestProcessor.evalWithIO$lambda$0$0(IdeCompatibleMessageRequestProcessor.kt:363)",
      "\tat org.jetbrains.kotlinx.jupyter.streams.BlockingSubstitutionEngine.withDataSubstitution(SubstitutionEngine.kt:70)",
      "\tat org.jetbrains.kotlinx.jupyter.streams.StreamSubstitutionManager.withSubstitutedStreams(StreamSubstitutionManager.kt:118)",
      "\tat org.jetbrains.kotlinx.jupyter.messaging.IdeCompatibleMessageRequestProcessor.withForkedErr(IdeCompatibleMessageRequestProcessor.kt:340)",
      "\tat org.jetbrains.kotlinx.jupyter.messaging.IdeCompatibleMessageRequestProcessor.evalWithIO$lambda$0(IdeCompatibleMessageRequestProcessor.kt:362)",
      "\tat org.jetbrains.kotlinx.jupyter.streams.BlockingSubstitutionEngine.withDataSubstitution(SubstitutionEngine.kt:70)",
      "\tat org.jetbrains.kotlinx.jupyter.streams.StreamSubstitutionManager.withSubstitutedStreams(StreamSubstitutionManager.kt:118)",
      "\tat org.jetbrains.kotlinx.jupyter.messaging.IdeCompatibleMessageRequestProcessor.withForkedOut(IdeCompatibleMessageRequestProcessor.kt:333)",
      "\tat org.jetbrains.kotlinx.jupyter.messaging.IdeCompatibleMessageRequestProcessor.evalWithIO(IdeCompatibleMessageRequestProcessor.kt:361)",
      "\tat org.jetbrains.kotlinx.jupyter.messaging.IdeCompatibleMessageRequestProcessor.processExecuteRequest$lambda$0$0(IdeCompatibleMessageRequestProcessor.kt:159)",
      "\tat org.jetbrains.kotlinx.jupyter.execution.JupyterExecutorImpl$Task.execute(JupyterExecutorImpl.kt:41)",
      "\tat org.jetbrains.kotlinx.jupyter.execution.JupyterExecutorImpl.executorThread$lambda$0(JupyterExecutorImpl.kt:81)",
      "\tat kotlin.concurrent.ThreadsKt$thread$thread$1.run(Thread.kt:30)",
      ""
     ]
    }
   ],
   "execution_count": 18
  },
  {
   "metadata": {
    "ExecuteTime": {
     "end_time": "2025-09-22T13:35:39.702342200Z",
     "start_time": "2025-09-22T13:35:39.584605300Z"
    }
   },
   "cell_type": "code",
   "source": [
    "var fish: Int = 12\n",
    "var lakes: Double = 2.5"
   ],
   "outputs": [],
   "execution_count": 19
  },
  {
   "metadata": {
    "ExecuteTime": {
     "end_time": "2025-09-22T13:36:46.991405Z",
     "start_time": "2025-09-22T13:36:46.776984800Z"
    }
   },
   "cell_type": "code",
   "source": [
    "val numberOfFish = 5\n",
    "val numberOfPlants = 12\n",
    "println(\"I have $numberOfFish fish\" + \" and $numberOfPlants plants\")\n",
    "println(\"I have ${numberOfFish + numberOfPlants} fish and plants\")"
   ],
   "outputs": [
    {
     "name": "stdout",
     "output_type": "stream",
     "text": [
      "I have 5 fish and 12 plants\r\n",
      "I have 17 fish and plants\r\n"
     ]
    }
   ],
   "execution_count": 23
  },
  {
   "metadata": {
    "ExecuteTime": {
     "end_time": "2025-09-22T13:38:17.668343100Z",
     "start_time": "2025-09-22T13:38:17.140615700Z"
    }
   },
   "cell_type": "code",
   "source": [
    "val numberOfFish = 50\n",
    "val numberOfPlants = 23\n",
    "if (numberOfFish > numberOfPlants) {\n",
    "    println(\"Good ratio!\")\n",
    "} else {\n",
    "    println(\"Unhealthy ratio\")\n",
    "}"
   ],
   "outputs": [
    {
     "name": "stdout",
     "output_type": "stream",
     "text": [
      "Good ratio!\r\n"
     ]
    }
   ],
   "execution_count": 24
  },
  {
   "metadata": {
    "ExecuteTime": {
     "end_time": "2025-09-22T13:38:33.596752500Z",
     "start_time": "2025-09-22T13:38:33.032667100Z"
    }
   },
   "cell_type": "code",
   "source": [
    "val fish = 50\n",
    "if (fish in 1..100) {\n",
    "    println(fish)\n",
    "}"
   ],
   "outputs": [
    {
     "name": "stdout",
     "output_type": "stream",
     "text": [
      "50\r\n"
     ]
    }
   ],
   "execution_count": 25
  },
  {
   "metadata": {
    "ExecuteTime": {
     "end_time": "2025-09-22T13:38:56.122430200Z",
     "start_time": "2025-09-22T13:38:55.731323800Z"
    }
   },
   "cell_type": "code",
   "source": [
    "if (numberOfFish == 0) {\n",
    "    println(\"Empty tank\")\n",
    "} else if (numberOfFish < 40) {\n",
    "    println(\"Got fish!\")\n",
    "} else {\n",
    "    println(\"That's a lot of fish!\")\n",
    "}"
   ],
   "outputs": [
    {
     "name": "stdout",
     "output_type": "stream",
     "text": [
      "That's a lot of fish!\r\n"
     ]
    }
   ],
   "execution_count": 26
  },
  {
   "metadata": {
    "ExecuteTime": {
     "end_time": "2025-09-22T13:39:11.534170500Z",
     "start_time": "2025-09-22T13:39:11.266671400Z"
    }
   },
   "cell_type": "code",
   "source": [
    "when (numberOfFish) {\n",
    "    0 -> println(\"Empty tank\")\n",
    "    in 1..39 -> println(\"Got fish!\")\n",
    "    else -> println(\"That's a lot of fish!\")\n",
    "}"
   ],
   "outputs": [
    {
     "name": "stdout",
     "output_type": "stream",
     "text": [
      "That's a lot of fish!\r\n"
     ]
    }
   ],
   "execution_count": 27
  },
  {
   "metadata": {
    "ExecuteTime": {
     "end_time": "2025-09-22T13:39:39.680398900Z",
     "start_time": "2025-09-22T13:39:39.640937800Z"
    }
   },
   "cell_type": "code",
   "source": "var rocks: Int = null",
   "outputs": [
    {
     "ename": "org.jetbrains.kotlinx.jupyter.exceptions.ReplCompilerException",
     "evalue": "at Cell In[28], line 1, column 18: Null can not be a value of a non-null type Int",
     "output_type": "error",
     "traceback": [
      "org.jetbrains.kotlinx.jupyter.exceptions.ReplCompilerException: at Cell In[28], line 1, column 18: Null can not be a value of a non-null type Int",
      "\tat org.jetbrains.kotlinx.jupyter.repl.impl.JupyterCompilerImpl.compileSync(JupyterCompilerImpl.kt:151)",
      "\tat org.jetbrains.kotlinx.jupyter.repl.impl.InternalEvaluatorImpl.eval(InternalEvaluatorImpl.kt:126)",
      "\tat org.jetbrains.kotlinx.jupyter.repl.impl.CellExecutorImpl.execute_L4Nmkdk$lambda$0$0(CellExecutorImpl.kt:80)",
      "\tat org.jetbrains.kotlinx.jupyter.repl.impl.ReplForJupyterImpl.withHost(ReplForJupyterImpl.kt:791)",
      "\tat org.jetbrains.kotlinx.jupyter.repl.impl.CellExecutorImpl.execute-L4Nmkdk(CellExecutorImpl.kt:78)",
      "\tat org.jetbrains.kotlinx.jupyter.repl.execution.CellExecutor.execute-L4Nmkdk$default(CellExecutor.kt:14)",
      "\tat org.jetbrains.kotlinx.jupyter.repl.impl.ReplForJupyterImpl.evaluateUserCode-wNURfNM(ReplForJupyterImpl.kt:616)",
      "\tat org.jetbrains.kotlinx.jupyter.repl.impl.ReplForJupyterImpl.evalExImpl(ReplForJupyterImpl.kt:474)",
      "\tat org.jetbrains.kotlinx.jupyter.repl.impl.ReplForJupyterImpl.evalEx$lambda$0(ReplForJupyterImpl.kt:468)",
      "\tat org.jetbrains.kotlinx.jupyter.repl.impl.ReplForJupyterImpl.withEvalContext(ReplForJupyterImpl.kt:450)",
      "\tat org.jetbrains.kotlinx.jupyter.repl.impl.ReplForJupyterImpl.evalEx(ReplForJupyterImpl.kt:467)",
      "\tat org.jetbrains.kotlinx.jupyter.messaging.IdeCompatibleMessageRequestProcessor.processExecuteRequest$lambda$0$0$0(IdeCompatibleMessageRequestProcessor.kt:160)",
      "\tat org.jetbrains.kotlinx.jupyter.streams.BlockingSubstitutionEngine.withDataSubstitution(SubstitutionEngine.kt:70)",
      "\tat org.jetbrains.kotlinx.jupyter.streams.StreamSubstitutionManager.withSubstitutedStreams(StreamSubstitutionManager.kt:118)",
      "\tat org.jetbrains.kotlinx.jupyter.messaging.IdeCompatibleMessageRequestProcessor.withForkedIn(IdeCompatibleMessageRequestProcessor.kt:350)",
      "\tat org.jetbrains.kotlinx.jupyter.messaging.IdeCompatibleMessageRequestProcessor.evalWithIO$lambda$0$0(IdeCompatibleMessageRequestProcessor.kt:363)",
      "\tat org.jetbrains.kotlinx.jupyter.streams.BlockingSubstitutionEngine.withDataSubstitution(SubstitutionEngine.kt:70)",
      "\tat org.jetbrains.kotlinx.jupyter.streams.StreamSubstitutionManager.withSubstitutedStreams(StreamSubstitutionManager.kt:118)",
      "\tat org.jetbrains.kotlinx.jupyter.messaging.IdeCompatibleMessageRequestProcessor.withForkedErr(IdeCompatibleMessageRequestProcessor.kt:340)",
      "\tat org.jetbrains.kotlinx.jupyter.messaging.IdeCompatibleMessageRequestProcessor.evalWithIO$lambda$0(IdeCompatibleMessageRequestProcessor.kt:362)",
      "\tat org.jetbrains.kotlinx.jupyter.streams.BlockingSubstitutionEngine.withDataSubstitution(SubstitutionEngine.kt:70)",
      "\tat org.jetbrains.kotlinx.jupyter.streams.StreamSubstitutionManager.withSubstitutedStreams(StreamSubstitutionManager.kt:118)",
      "\tat org.jetbrains.kotlinx.jupyter.messaging.IdeCompatibleMessageRequestProcessor.withForkedOut(IdeCompatibleMessageRequestProcessor.kt:333)",
      "\tat org.jetbrains.kotlinx.jupyter.messaging.IdeCompatibleMessageRequestProcessor.evalWithIO(IdeCompatibleMessageRequestProcessor.kt:361)",
      "\tat org.jetbrains.kotlinx.jupyter.messaging.IdeCompatibleMessageRequestProcessor.processExecuteRequest$lambda$0$0(IdeCompatibleMessageRequestProcessor.kt:159)",
      "\tat org.jetbrains.kotlinx.jupyter.execution.JupyterExecutorImpl$Task.execute(JupyterExecutorImpl.kt:41)",
      "\tat org.jetbrains.kotlinx.jupyter.execution.JupyterExecutorImpl.executorThread$lambda$0(JupyterExecutorImpl.kt:81)",
      "\tat kotlin.concurrent.ThreadsKt$thread$thread$1.run(Thread.kt:30)",
      ""
     ]
    }
   ],
   "execution_count": 28
  },
  {
   "metadata": {
    "ExecuteTime": {
     "end_time": "2025-09-22T13:39:53.556392600Z",
     "start_time": "2025-09-22T13:39:53.463093500Z"
    }
   },
   "cell_type": "code",
   "source": "var marbles: Int? = null",
   "outputs": [],
   "execution_count": 29
  },
  {
   "metadata": {
    "ExecuteTime": {
     "end_time": "2025-09-22T13:41:24.867053200Z",
     "start_time": "2025-09-22T13:41:24.730491200Z"
    }
   },
   "cell_type": "code",
   "source": [
    "var fishFoodTreats = 6\n",
    "fishFoodTreats = fishFoodTreats?.dec() ?: 0"
   ],
   "outputs": [],
   "execution_count": 35
  },
  {
   "metadata": {
    "ExecuteTime": {
     "end_time": "2025-09-22T13:41:44.831380400Z",
     "start_time": "2025-09-22T13:41:44.742577300Z"
    }
   },
   "cell_type": "code",
   "source": "val len = s!!.length // throws NullPointerException if s is null",
   "outputs": [
    {
     "ename": "org.jetbrains.kotlinx.jupyter.exceptions.ReplCompilerException",
     "evalue": "at Cell In[36], line 1, column 11: Unresolved reference: s",
     "output_type": "error",
     "traceback": [
      "org.jetbrains.kotlinx.jupyter.exceptions.ReplCompilerException: at Cell In[36], line 1, column 11: Unresolved reference: s",
      "\tat org.jetbrains.kotlinx.jupyter.repl.impl.JupyterCompilerImpl.compileSync(JupyterCompilerImpl.kt:151)",
      "\tat org.jetbrains.kotlinx.jupyter.repl.impl.InternalEvaluatorImpl.eval(InternalEvaluatorImpl.kt:126)",
      "\tat org.jetbrains.kotlinx.jupyter.repl.impl.CellExecutorImpl.execute_L4Nmkdk$lambda$0$0(CellExecutorImpl.kt:80)",
      "\tat org.jetbrains.kotlinx.jupyter.repl.impl.ReplForJupyterImpl.withHost(ReplForJupyterImpl.kt:791)",
      "\tat org.jetbrains.kotlinx.jupyter.repl.impl.CellExecutorImpl.execute-L4Nmkdk(CellExecutorImpl.kt:78)",
      "\tat org.jetbrains.kotlinx.jupyter.repl.execution.CellExecutor.execute-L4Nmkdk$default(CellExecutor.kt:14)",
      "\tat org.jetbrains.kotlinx.jupyter.repl.impl.ReplForJupyterImpl.evaluateUserCode-wNURfNM(ReplForJupyterImpl.kt:616)",
      "\tat org.jetbrains.kotlinx.jupyter.repl.impl.ReplForJupyterImpl.evalExImpl(ReplForJupyterImpl.kt:474)",
      "\tat org.jetbrains.kotlinx.jupyter.repl.impl.ReplForJupyterImpl.evalEx$lambda$0(ReplForJupyterImpl.kt:468)",
      "\tat org.jetbrains.kotlinx.jupyter.repl.impl.ReplForJupyterImpl.withEvalContext(ReplForJupyterImpl.kt:450)",
      "\tat org.jetbrains.kotlinx.jupyter.repl.impl.ReplForJupyterImpl.evalEx(ReplForJupyterImpl.kt:467)",
      "\tat org.jetbrains.kotlinx.jupyter.messaging.IdeCompatibleMessageRequestProcessor.processExecuteRequest$lambda$0$0$0(IdeCompatibleMessageRequestProcessor.kt:160)",
      "\tat org.jetbrains.kotlinx.jupyter.streams.BlockingSubstitutionEngine.withDataSubstitution(SubstitutionEngine.kt:70)",
      "\tat org.jetbrains.kotlinx.jupyter.streams.StreamSubstitutionManager.withSubstitutedStreams(StreamSubstitutionManager.kt:118)",
      "\tat org.jetbrains.kotlinx.jupyter.messaging.IdeCompatibleMessageRequestProcessor.withForkedIn(IdeCompatibleMessageRequestProcessor.kt:350)",
      "\tat org.jetbrains.kotlinx.jupyter.messaging.IdeCompatibleMessageRequestProcessor.evalWithIO$lambda$0$0(IdeCompatibleMessageRequestProcessor.kt:363)",
      "\tat org.jetbrains.kotlinx.jupyter.streams.BlockingSubstitutionEngine.withDataSubstitution(SubstitutionEngine.kt:70)",
      "\tat org.jetbrains.kotlinx.jupyter.streams.StreamSubstitutionManager.withSubstitutedStreams(StreamSubstitutionManager.kt:118)",
      "\tat org.jetbrains.kotlinx.jupyter.messaging.IdeCompatibleMessageRequestProcessor.withForkedErr(IdeCompatibleMessageRequestProcessor.kt:340)",
      "\tat org.jetbrains.kotlinx.jupyter.messaging.IdeCompatibleMessageRequestProcessor.evalWithIO$lambda$0(IdeCompatibleMessageRequestProcessor.kt:362)",
      "\tat org.jetbrains.kotlinx.jupyter.streams.BlockingSubstitutionEngine.withDataSubstitution(SubstitutionEngine.kt:70)",
      "\tat org.jetbrains.kotlinx.jupyter.streams.StreamSubstitutionManager.withSubstitutedStreams(StreamSubstitutionManager.kt:118)",
      "\tat org.jetbrains.kotlinx.jupyter.messaging.IdeCompatibleMessageRequestProcessor.withForkedOut(IdeCompatibleMessageRequestProcessor.kt:333)",
      "\tat org.jetbrains.kotlinx.jupyter.messaging.IdeCompatibleMessageRequestProcessor.evalWithIO(IdeCompatibleMessageRequestProcessor.kt:361)",
      "\tat org.jetbrains.kotlinx.jupyter.messaging.IdeCompatibleMessageRequestProcessor.processExecuteRequest$lambda$0$0(IdeCompatibleMessageRequestProcessor.kt:159)",
      "\tat org.jetbrains.kotlinx.jupyter.execution.JupyterExecutorImpl$Task.execute(JupyterExecutorImpl.kt:41)",
      "\tat org.jetbrains.kotlinx.jupyter.execution.JupyterExecutorImpl.executorThread$lambda$0(JupyterExecutorImpl.kt:81)",
      "\tat kotlin.concurrent.ThreadsKt$thread$thread$1.run(Thread.kt:30)",
      ""
     ]
    }
   ],
   "execution_count": 36
  },
  {
   "metadata": {
    "ExecuteTime": {
     "end_time": "2025-09-22T13:42:01.179025300Z",
     "start_time": "2025-09-22T13:42:00.677017400Z"
    }
   },
   "cell_type": "code",
   "source": [
    "val school = listOf(\"mackerel\", \"trout\", \"halibut\")\n",
    "println(school)"
   ],
   "outputs": [
    {
     "name": "stdout",
     "output_type": "stream",
     "text": [
      "[mackerel, trout, halibut]\r\n"
     ]
    }
   ],
   "execution_count": 37
  },
  {
   "metadata": {
    "ExecuteTime": {
     "end_time": "2025-09-22T13:42:29.958085500Z",
     "start_time": "2025-09-22T13:42:29.803780300Z"
    }
   },
   "cell_type": "code",
   "source": [
    "val myList = mutableListOf(\"tuna\", \"salmon\", \"shark\")\n",
    "myList.remove(\"shark\")\n",
    "print(myList)"
   ],
   "outputs": [
    {
     "name": "stdout",
     "output_type": "stream",
     "text": [
      "[tuna, salmon]"
     ]
    }
   ],
   "execution_count": 39
  },
  {
   "metadata": {
    "ExecuteTime": {
     "end_time": "2025-09-22T13:42:53.371724300Z",
     "start_time": "2025-09-22T13:42:53.069475200Z"
    }
   },
   "cell_type": "code",
   "source": [
    "val school = arrayOf(\"shark\", \"salmon\", \"minnow\")\n",
    "println(java.util.Arrays.toString(school))"
   ],
   "outputs": [
    {
     "name": "stdout",
     "output_type": "stream",
     "text": [
      "[shark, salmon, minnow]\r\n"
     ]
    }
   ],
   "execution_count": 40
  },
  {
   "metadata": {
    "ExecuteTime": {
     "end_time": "2025-09-22T13:44:02.460273800Z",
     "start_time": "2025-09-22T13:44:02.258199700Z"
    }
   },
   "cell_type": "code",
   "source": [
    "val mix = arrayOf(\"fish\", 2)\n",
    "print(java.util.Arrays.toString(mix))"
   ],
   "outputs": [
    {
     "name": "stdout",
     "output_type": "stream",
     "text": [
      "[fish, 2]"
     ]
    }
   ],
   "execution_count": 44
  },
  {
   "metadata": {
    "ExecuteTime": {
     "end_time": "2025-09-22T13:44:13.816987900Z",
     "start_time": "2025-09-22T13:44:13.689638100Z"
    }
   },
   "cell_type": "code",
   "source": "val numbers = intArrayOf(1,2,3)",
   "outputs": [],
   "execution_count": 46
  },
  {
   "metadata": {
    "ExecuteTime": {
     "end_time": "2025-09-22T13:44:22.007875100Z",
     "start_time": "2025-09-22T13:44:21.594625300Z"
    }
   },
   "cell_type": "code",
   "source": [
    "val numbers = intArrayOf(1,2,3)\n",
    "val numbers3 = intArrayOf(4,5,6)\n",
    "val foo2 = numbers3 + numbers\n",
    "println(foo2[5])"
   ],
   "outputs": [
    {
     "name": "stdout",
     "output_type": "stream",
     "text": [
      "3\r\n"
     ]
    }
   ],
   "execution_count": 47
  },
  {
   "metadata": {
    "ExecuteTime": {
     "end_time": "2025-09-22T13:44:34.361767700Z",
     "start_time": "2025-09-22T13:44:34.133538300Z"
    }
   },
   "cell_type": "code",
   "source": [
    "val numbers = intArrayOf(1, 2, 3)\n",
    "val oceans = listOf(\"Atlantic\", \"Pacific\")\n",
    "val oddList = listOf(numbers, oceans, \"salmon\")\n",
    "println(oddList)"
   ],
   "outputs": [
    {
     "name": "stdout",
     "output_type": "stream",
     "text": [
      "[[I@941f81, [Atlantic, Pacific], salmon]\r\n"
     ]
    }
   ],
   "execution_count": 48
  },
  {
   "metadata": {
    "ExecuteTime": {
     "end_time": "2025-09-22T13:44:56.196312300Z",
     "start_time": "2025-09-22T13:44:55.822767100Z"
    }
   },
   "cell_type": "code",
   "source": [
    "val array = Array (5) { it * 2 }\n",
    "println(java.util.Arrays.toString(array))"
   ],
   "outputs": [
    {
     "name": "stdout",
     "output_type": "stream",
     "text": [
      "[0, 2, 4, 6, 8]\r\n"
     ]
    }
   ],
   "execution_count": 49
  },
  {
   "metadata": {
    "ExecuteTime": {
     "end_time": "2025-09-22T13:45:06.647393100Z",
     "start_time": "2025-09-22T13:45:06.312966100Z"
    }
   },
   "cell_type": "code",
   "source": [
    "val school = arrayOf(\"shark\", \"salmon\", \"minnow\")\n",
    "for (element in school) {\n",
    "    print(element + \" \")\n",
    "}"
   ],
   "outputs": [
    {
     "name": "stdout",
     "output_type": "stream",
     "text": [
      "shark salmon minnow "
     ]
    }
   ],
   "execution_count": 50
  },
  {
   "metadata": {
    "ExecuteTime": {
     "end_time": "2025-09-22T13:45:22.622978600Z",
     "start_time": "2025-09-22T13:45:22.221665800Z"
    }
   },
   "cell_type": "code",
   "source": [
    "for ((index, element) in school.withIndex()) {\n",
    "    println(\"Item at $index is $element\\n\")\n",
    "}"
   ],
   "outputs": [
    {
     "name": "stdout",
     "output_type": "stream",
     "text": [
      "Item at 0 is shark\n",
      "\r\n",
      "Item at 1 is salmon\n",
      "\r\n",
      "Item at 2 is minnow\n",
      "\r\n"
     ]
    }
   ],
   "execution_count": 51
  },
  {
   "metadata": {
    "ExecuteTime": {
     "end_time": "2025-09-22T13:45:56.715434200Z",
     "start_time": "2025-09-22T13:45:56.325256800Z"
    }
   },
   "cell_type": "code",
   "source": [
    "for (i in 1..5) print(i)\n",
    "println()\n",
    "for (i in 5 downTo 1) print(i)\n",
    "println()\n",
    "for (i in 3..6 step 2) print(i)\n",
    "println()\n",
    "for (i in 'd'..'g') print (i)"
   ],
   "outputs": [
    {
     "name": "stdout",
     "output_type": "stream",
     "text": [
      "12345\r\n",
      "54321\r\n",
      "35\r\n",
      "defg"
     ]
    }
   ],
   "execution_count": 53
  },
  {
   "metadata": {
    "ExecuteTime": {
     "end_time": "2025-09-22T13:46:11.080553900Z",
     "start_time": "2025-09-22T13:46:10.594332100Z"
    }
   },
   "cell_type": "code",
   "source": [
    "var bubbles = 0\n",
    "while (bubbles < 50) {\n",
    "    bubbles++\n",
    "}\n",
    "println(\"$bubbles bubbles in the water\\n\")\n",
    "do {\n",
    "    bubbles--\n",
    "} while (bubbles > 50)\n",
    "println(\"$bubbles bubbles in the water\\n\")\n",
    "repeat(2) {\n",
    "    println(\"A fish is swimming\")\n",
    "}"
   ],
   "outputs": [
    {
     "name": "stdout",
     "output_type": "stream",
     "text": [
      "50 bubbles in the water\n",
      "\r\n",
      "49 bubbles in the water\n",
      "\r\n",
      "A fish is swimming\r\n",
      "A fish is swimming\r\n"
     ]
    }
   ],
   "execution_count": 54
  },
  {
   "metadata": {
    "ExecuteTime": {
     "end_time": "2025-09-22T14:13:28.844046100Z",
     "start_time": "2025-09-22T14:13:27.604336600Z"
    }
   },
   "cell_type": "code",
   "source": [
    "var dirtyLevel = 20\n",
    "val waterFilter = { dirty : Int -> dirty / 2}\n",
    "println(waterFilter(dirtyLevel))"
   ],
   "outputs": [
    {
     "name": "stdout",
     "output_type": "stream",
     "text": [
      "10\r\n"
     ]
    }
   ],
   "execution_count": 55
  },
  {
   "metadata": {
    "ExecuteTime": {
     "end_time": "2025-09-22T14:13:40.124810800Z",
     "start_time": "2025-09-22T14:13:39.943667500Z"
    }
   },
   "cell_type": "code",
   "source": "val waterFilter: (Int) -> Int = { dirty -> dirty / 2 }",
   "outputs": [],
   "execution_count": 56
  },
  {
   "metadata": {
    "ExecuteTime": {
     "end_time": "2025-09-22T14:14:16.743180200Z",
     "start_time": "2025-09-22T14:14:16.385051800Z"
    }
   },
   "cell_type": "code",
   "source": [
    "fun updateDirty(dirty: Int, operation: (Int) -> Int): Int {\n",
    "    return operation(dirty)\n",
    "}\n",
    "\n",
    "val waterFilter: (Int) -> Int = { dirty -> dirty / 2 }\n",
    "println(updateDirty(30, waterFilter))"
   ],
   "outputs": [
    {
     "name": "stdout",
     "output_type": "stream",
     "text": [
      "15\r\n"
     ]
    }
   ],
   "execution_count": 57
  },
  {
   "metadata": {
    "ExecuteTime": {
     "end_time": "2025-09-22T14:14:40.234114800Z",
     "start_time": "2025-09-22T14:14:39.685091700Z"
    }
   },
   "cell_type": "code",
   "source": [
    "fun increaseDirty( start: Int ) = start + 1\n",
    "println(updateDirty(15, ::increaseDirty))"
   ],
   "outputs": [
    {
     "name": "stdout",
     "output_type": "stream",
     "text": [
      "16\r\n"
     ]
    }
   ],
   "execution_count": 58
  },
  {
   "metadata": {
    "ExecuteTime": {
     "end_time": "2025-09-22T14:16:10.719443700Z",
     "start_time": "2025-09-22T14:16:10.526635400Z"
    }
   },
   "cell_type": "code",
   "source": [
    "var dirtyLevel = 19\n",
    "dirtyLevel = updateDirty(dirtyLevel) { dirtyLevel -> dirtyLevel + 23}\n",
    "println(dirtyLevel)"
   ],
   "outputs": [
    {
     "name": "stdout",
     "output_type": "stream",
     "text": [
      "42\r\n"
     ]
    }
   ],
   "execution_count": 59
  },
  {
   "metadata": {},
   "cell_type": "markdown",
   "source": "# Lab 03"
  },
  {
   "metadata": {},
   "cell_type": "markdown",
   "source": "### 3.1"
  },
  {
   "metadata": {
    "ExecuteTime": {
     "end_time": "2025-09-29T15:15:33.495010800Z",
     "start_time": "2025-09-29T15:15:33.274196500Z"
    }
   },
   "cell_type": "code",
   "source": [
    "enum class Direction(val degrees: Int) {\n",
    "    NORTH(0), SOUTH(180), EAST(90), WEST(270)\n",
    "}\n",
    "\n",
    "println(Direction.EAST.name)\n",
    "println(Direction.EAST.ordinal)\n",
    "println(Direction.EAST.degrees)"
   ],
   "outputs": [
    {
     "name": "stdout",
     "output_type": "stream",
     "text": [
      "EAST\r\n",
      "2\r\n",
      "90\r\n"
     ]
    }
   ],
   "execution_count": 3
  },
  {
   "metadata": {},
   "cell_type": "markdown",
   "source": "### 3.2"
  },
  {
   "metadata": {
    "ExecuteTime": {
     "end_time": "2025-09-29T15:16:41.913046300Z",
     "start_time": "2025-09-29T15:16:41.659782600Z"
    }
   },
   "cell_type": "code",
   "source": [
    "val equipment = \"fish net\" to \"catching fish\"\n",
    "println(\"${equipment.first} used for ${equipment.second}\")"
   ],
   "outputs": [
    {
     "name": "stdout",
     "output_type": "stream",
     "text": [
      "fish net used for catching fish\r\n"
     ]
    }
   ],
   "execution_count": 5
  },
  {
   "metadata": {
    "ExecuteTime": {
     "end_time": "2025-09-29T15:16:55.263195500Z",
     "start_time": "2025-09-29T15:16:55.065158100Z"
    }
   },
   "cell_type": "code",
   "source": [
    "val numbers = Triple(6, 9, 42)\n",
    "println(numbers.toString())\n",
    "println(numbers.toList())"
   ],
   "outputs": [
    {
     "name": "stdout",
     "output_type": "stream",
     "text": [
      "(6, 9, 42)\r\n",
      "[6, 9, 42]\r\n"
     ]
    }
   ],
   "execution_count": 6
  },
  {
   "metadata": {
    "ExecuteTime": {
     "end_time": "2025-09-29T15:17:09.552198Z",
     "start_time": "2025-09-29T15:17:09.371398500Z"
    }
   },
   "cell_type": "code",
   "source": [
    "val equipment2 = (\"fish net\" to \"catching fish\") to \"equipment\"\n",
    "println(\"${equipment2.first} is ${equipment2.second}\\n\")\n",
    "println(\"${equipment2.first.second}\")"
   ],
   "outputs": [
    {
     "name": "stdout",
     "output_type": "stream",
     "text": [
      "(fish net, catching fish) is equipment\n",
      "\r\n",
      "catching fish\r\n"
     ]
    }
   ],
   "execution_count": 7
  },
  {
   "metadata": {
    "ExecuteTime": {
     "end_time": "2025-09-29T15:17:30.948400100Z",
     "start_time": "2025-09-29T15:17:30.767373700Z"
    }
   },
   "cell_type": "code",
   "source": [
    "val equipment = \"fish net\" to \"catching fish\"\n",
    "val (tool, use) = equipment\n",
    "println(\"$tool is used for $use\")"
   ],
   "outputs": [
    {
     "name": "stdout",
     "output_type": "stream",
     "text": [
      "fish net is used for catching fish\r\n"
     ]
    }
   ],
   "execution_count": 8
  },
  {
   "metadata": {
    "ExecuteTime": {
     "end_time": "2025-09-29T15:17:38.600194700Z",
     "start_time": "2025-09-29T15:17:38.472097600Z"
    }
   },
   "cell_type": "code",
   "source": [
    "val numbers = Triple(6, 9, 42)\n",
    "val (n1, n2, n3) = numbers\n",
    "println(\"$n1 $n2 $n3\")"
   ],
   "outputs": [
    {
     "name": "stdout",
     "output_type": "stream",
     "text": [
      "6 9 42\r\n"
     ]
    }
   ],
   "execution_count": 9
  },
  {
   "metadata": {
    "ExecuteTime": {
     "end_time": "2025-09-29T15:18:18.091262700Z",
     "start_time": "2025-09-29T15:18:17.807865200Z"
    }
   },
   "cell_type": "code",
   "source": [
    "val list = listOf(1, 5, 3, 4)\n",
    "println(list.sum())"
   ],
   "outputs": [
    {
     "name": "stdout",
     "output_type": "stream",
     "text": [
      "13\r\n"
     ]
    }
   ],
   "execution_count": 10
  },
  {
   "metadata": {
    "ExecuteTime": {
     "end_time": "2025-09-29T15:18:34.789509500Z",
     "start_time": "2025-09-29T15:18:34.464054100Z"
    }
   },
   "cell_type": "code",
   "source": [
    "val list2 = listOf(\"a\", \"bbb\", \"cc\")\n",
    "println(list2.sum())"
   ],
   "outputs": [
    {
     "ename": "org.jetbrains.kotlinx.jupyter.exceptions.ReplCompilerException",
     "evalue": "at Cell In[11], line 2, column 15: Unresolved reference. None of the following candidates is applicable because of receiver type mismatch: \npublic fun Array<out Byte>.sum(): Int defined in kotlin.collections\npublic fun Array<out Double>.sum(): Double defined in kotlin.collections\npublic fun Array<out Float>.sum(): Float defined in kotlin.collections\npublic fun Array<out Int>.sum(): Int defined in kotlin.collections\npublic fun Array<out Long>.sum(): Long defined in kotlin.collections\npublic fun Array<out Short>.sum(): Int defined in kotlin.collections\npublic fun Array<out UByte>.sum(): UInt defined in kotlin.collections\npublic fun Array<out UInt>.sum(): UInt defined in kotlin.collections\npublic fun Array<out ULong>.sum(): ULong defined in kotlin.collections\npublic fun Array<out UShort>.sum(): UInt defined in kotlin.collections\npublic fun ByteArray.sum(): Int defined in kotlin.collections\npublic fun DoubleArray.sum(): Double defined in kotlin.collections\npublic fun FloatArray.sum(): Float defined in kotlin.collections\npublic fun IntArray.sum(): Int defined in kotlin.collections\npublic fun LongArray.sum(): Long defined in kotlin.collections\npublic fun ShortArray.sum(): Int defined in kotlin.collections\npublic inline fun UByteArray.sum(): UInt defined in kotlin.collections\npublic inline fun UIntArray.sum(): UInt defined in kotlin.collections\npublic inline fun ULongArray.sum(): ULong defined in kotlin.collections\npublic inline fun UShortArray.sum(): UInt defined in kotlin.collections\npublic fun Iterable<Byte>.sum(): Int defined in kotlin.collections\npublic fun Iterable<Double>.sum(): Double defined in kotlin.collections\npublic fun Iterable<Float>.sum(): Float defined in kotlin.collections\npublic fun Iterable<Int>.sum(): Int defined in kotlin.collections\npublic fun Iterable<Long>.sum(): Long defined in kotlin.collections\npublic fun Iterable<Short>.sum(): Int defined in kotlin.collections\npublic fun Iterable<UByte>.sum(): UInt defined in kotlin.collections\npublic fun Iterable<UInt>.sum(): UInt defined in kotlin.collections\npublic fun Iterable<ULong>.sum(): ULong defined in kotlin.collections\npublic fun Iterable<UShort>.sum(): UInt defined in kotlin.collections\npublic fun Sequence<Byte>.sum(): Int defined in kotlin.sequences\npublic fun Sequence<Double>.sum(): Double defined in kotlin.sequences\npublic fun Sequence<Float>.sum(): Float defined in kotlin.sequences\npublic fun Sequence<Int>.sum(): Int defined in kotlin.sequences\npublic fun Sequence<Long>.sum(): Long defined in kotlin.sequences\npublic fun Sequence<Short>.sum(): Int defined in kotlin.sequences\npublic fun Sequence<UByte>.sum(): UInt defined in kotlin.sequences\npublic fun Sequence<UInt>.sum(): UInt defined in kotlin.sequences\npublic fun Sequence<ULong>.sum(): ULong defined in kotlin.sequences\npublic fun Sequence<UShort>.sum(): UInt defined in kotlin.sequences",
     "output_type": "error",
     "traceback": [
      "org.jetbrains.kotlinx.jupyter.exceptions.ReplCompilerException: at Cell In[11], line 2, column 15: Unresolved reference. None of the following candidates is applicable because of receiver type mismatch: ",
      "public fun Array<out Byte>.sum(): Int defined in kotlin.collections",
      "public fun Array<out Double>.sum(): Double defined in kotlin.collections",
      "public fun Array<out Float>.sum(): Float defined in kotlin.collections",
      "public fun Array<out Int>.sum(): Int defined in kotlin.collections",
      "public fun Array<out Long>.sum(): Long defined in kotlin.collections",
      "public fun Array<out Short>.sum(): Int defined in kotlin.collections",
      "public fun Array<out UByte>.sum(): UInt defined in kotlin.collections",
      "public fun Array<out UInt>.sum(): UInt defined in kotlin.collections",
      "public fun Array<out ULong>.sum(): ULong defined in kotlin.collections",
      "public fun Array<out UShort>.sum(): UInt defined in kotlin.collections",
      "public fun ByteArray.sum(): Int defined in kotlin.collections",
      "public fun DoubleArray.sum(): Double defined in kotlin.collections",
      "public fun FloatArray.sum(): Float defined in kotlin.collections",
      "public fun IntArray.sum(): Int defined in kotlin.collections",
      "public fun LongArray.sum(): Long defined in kotlin.collections",
      "public fun ShortArray.sum(): Int defined in kotlin.collections",
      "public inline fun UByteArray.sum(): UInt defined in kotlin.collections",
      "public inline fun UIntArray.sum(): UInt defined in kotlin.collections",
      "public inline fun ULongArray.sum(): ULong defined in kotlin.collections",
      "public inline fun UShortArray.sum(): UInt defined in kotlin.collections",
      "public fun Iterable<Byte>.sum(): Int defined in kotlin.collections",
      "public fun Iterable<Double>.sum(): Double defined in kotlin.collections",
      "public fun Iterable<Float>.sum(): Float defined in kotlin.collections",
      "public fun Iterable<Int>.sum(): Int defined in kotlin.collections",
      "public fun Iterable<Long>.sum(): Long defined in kotlin.collections",
      "public fun Iterable<Short>.sum(): Int defined in kotlin.collections",
      "public fun Iterable<UByte>.sum(): UInt defined in kotlin.collections",
      "public fun Iterable<UInt>.sum(): UInt defined in kotlin.collections",
      "public fun Iterable<ULong>.sum(): ULong defined in kotlin.collections",
      "public fun Iterable<UShort>.sum(): UInt defined in kotlin.collections",
      "public fun Sequence<Byte>.sum(): Int defined in kotlin.sequences",
      "public fun Sequence<Double>.sum(): Double defined in kotlin.sequences",
      "public fun Sequence<Float>.sum(): Float defined in kotlin.sequences",
      "public fun Sequence<Int>.sum(): Int defined in kotlin.sequences",
      "public fun Sequence<Long>.sum(): Long defined in kotlin.sequences",
      "public fun Sequence<Short>.sum(): Int defined in kotlin.sequences",
      "public fun Sequence<UByte>.sum(): UInt defined in kotlin.sequences",
      "public fun Sequence<UInt>.sum(): UInt defined in kotlin.sequences",
      "public fun Sequence<ULong>.sum(): ULong defined in kotlin.sequences",
      "public fun Sequence<UShort>.sum(): UInt defined in kotlin.sequences",
      "\tat org.jetbrains.kotlinx.jupyter.repl.impl.JupyterCompilerImpl.compileSync(JupyterCompilerImpl.kt:151)",
      "\tat org.jetbrains.kotlinx.jupyter.repl.impl.InternalEvaluatorImpl.eval(InternalEvaluatorImpl.kt:126)",
      "\tat org.jetbrains.kotlinx.jupyter.repl.impl.CellExecutorImpl.execute_L4Nmkdk$lambda$0$0(CellExecutorImpl.kt:80)",
      "\tat org.jetbrains.kotlinx.jupyter.repl.impl.ReplForJupyterImpl.withHost(ReplForJupyterImpl.kt:791)",
      "\tat org.jetbrains.kotlinx.jupyter.repl.impl.CellExecutorImpl.execute-L4Nmkdk(CellExecutorImpl.kt:78)",
      "\tat org.jetbrains.kotlinx.jupyter.repl.execution.CellExecutor.execute-L4Nmkdk$default(CellExecutor.kt:14)",
      "\tat org.jetbrains.kotlinx.jupyter.repl.impl.ReplForJupyterImpl.evaluateUserCode-wNURfNM(ReplForJupyterImpl.kt:616)",
      "\tat org.jetbrains.kotlinx.jupyter.repl.impl.ReplForJupyterImpl.evalExImpl(ReplForJupyterImpl.kt:474)",
      "\tat org.jetbrains.kotlinx.jupyter.repl.impl.ReplForJupyterImpl.evalEx$lambda$0(ReplForJupyterImpl.kt:468)",
      "\tat org.jetbrains.kotlinx.jupyter.repl.impl.ReplForJupyterImpl.withEvalContext(ReplForJupyterImpl.kt:450)",
      "\tat org.jetbrains.kotlinx.jupyter.repl.impl.ReplForJupyterImpl.evalEx(ReplForJupyterImpl.kt:467)",
      "\tat org.jetbrains.kotlinx.jupyter.messaging.IdeCompatibleMessageRequestProcessor.processExecuteRequest$lambda$0$0$0(IdeCompatibleMessageRequestProcessor.kt:160)",
      "\tat org.jetbrains.kotlinx.jupyter.streams.BlockingSubstitutionEngine.withDataSubstitution(SubstitutionEngine.kt:70)",
      "\tat org.jetbrains.kotlinx.jupyter.streams.StreamSubstitutionManager.withSubstitutedStreams(StreamSubstitutionManager.kt:118)",
      "\tat org.jetbrains.kotlinx.jupyter.messaging.IdeCompatibleMessageRequestProcessor.withForkedIn(IdeCompatibleMessageRequestProcessor.kt:350)",
      "\tat org.jetbrains.kotlinx.jupyter.messaging.IdeCompatibleMessageRequestProcessor.evalWithIO$lambda$0$0(IdeCompatibleMessageRequestProcessor.kt:363)",
      "\tat org.jetbrains.kotlinx.jupyter.streams.BlockingSubstitutionEngine.withDataSubstitution(SubstitutionEngine.kt:70)",
      "\tat org.jetbrains.kotlinx.jupyter.streams.StreamSubstitutionManager.withSubstitutedStreams(StreamSubstitutionManager.kt:118)",
      "\tat org.jetbrains.kotlinx.jupyter.messaging.IdeCompatibleMessageRequestProcessor.withForkedErr(IdeCompatibleMessageRequestProcessor.kt:340)",
      "\tat org.jetbrains.kotlinx.jupyter.messaging.IdeCompatibleMessageRequestProcessor.evalWithIO$lambda$0(IdeCompatibleMessageRequestProcessor.kt:362)",
      "\tat org.jetbrains.kotlinx.jupyter.streams.BlockingSubstitutionEngine.withDataSubstitution(SubstitutionEngine.kt:70)",
      "\tat org.jetbrains.kotlinx.jupyter.streams.StreamSubstitutionManager.withSubstitutedStreams(StreamSubstitutionManager.kt:118)",
      "\tat org.jetbrains.kotlinx.jupyter.messaging.IdeCompatibleMessageRequestProcessor.withForkedOut(IdeCompatibleMessageRequestProcessor.kt:333)",
      "\tat org.jetbrains.kotlinx.jupyter.messaging.IdeCompatibleMessageRequestProcessor.evalWithIO(IdeCompatibleMessageRequestProcessor.kt:361)",
      "\tat org.jetbrains.kotlinx.jupyter.messaging.IdeCompatibleMessageRequestProcessor.processExecuteRequest$lambda$0$0(IdeCompatibleMessageRequestProcessor.kt:159)",
      "\tat org.jetbrains.kotlinx.jupyter.execution.JupyterExecutorImpl$Task.execute(JupyterExecutorImpl.kt:41)",
      "\tat org.jetbrains.kotlinx.jupyter.execution.JupyterExecutorImpl.executorThread$lambda$0(JupyterExecutorImpl.kt:81)",
      "\tat kotlin.concurrent.ThreadsKt$thread$thread$1.run(Thread.kt:30)",
      ""
     ]
    }
   ],
   "execution_count": 11
  },
  {
   "metadata": {
    "ExecuteTime": {
     "end_time": "2025-09-29T15:20:24.514812Z",
     "start_time": "2025-09-29T15:20:24.283798900Z"
    }
   },
   "cell_type": "code",
   "source": [
    "val list2 = listOf(\"a\", \"bbb\", \"cc\")\n",
    "//println(list2.sumBy { it.length })\n",
    "println(list2.sumOf<String> { it.length }) // replace with sumOf because sumBy is deprecated"
   ],
   "outputs": [
    {
     "name": "stdout",
     "output_type": "stream",
     "text": [
      "6\r\n"
     ]
    }
   ],
   "execution_count": 14
  },
  {
   "metadata": {
    "ExecuteTime": {
     "end_time": "2025-09-29T15:20:35.667453600Z",
     "start_time": "2025-09-29T15:20:35.564109800Z"
    }
   },
   "cell_type": "code",
   "source": [
    "val list2 = listOf(\"a\", \"bbb\", \"cc\")\n",
    "for (s in list2.listIterator()) {\n",
    "    println(\"$s \")\n",
    "}"
   ],
   "outputs": [
    {
     "name": "stdout",
     "output_type": "stream",
     "text": [
      "a \r\n",
      "bbb \r\n",
      "cc \r\n"
     ]
    }
   ],
   "execution_count": 15
  },
  {
   "metadata": {
    "ExecuteTime": {
     "end_time": "2025-09-29T15:22:10.628565800Z",
     "start_time": "2025-09-29T15:22:10.268466500Z"
    }
   },
   "cell_type": "code",
   "source": [
    "val scientific = hashMapOf(\"guppy\" to \"poecilia reticulata\", \"catfish\" to \"corydoras\", \"zebra fish\" to \"danio rerio\" )\n",
    "println (scientific.get(\"guppy\"))\n",
    "println(scientific.get(\"zebra fish\"))\n",
    "println(scientific.get(\"swordtail\"))\n",
    "println(scientific.getOrDefault(\"swordtail\", \"sorry, I don't know\"))\n",
    "println(scientific.getOrElse(\"swordtail\") {\"sorry, I don't know\"})"
   ],
   "outputs": [
    {
     "name": "stdout",
     "output_type": "stream",
     "text": [
      "poecilia reticulata\r\n",
      "danio rerio\r\n",
      "null\r\n",
      "sorry, I don't know\r\n",
      "sorry, I don't know\r\n"
     ]
    }
   ],
   "execution_count": 20
  },
  {
   "metadata": {
    "ExecuteTime": {
     "end_time": "2025-09-29T15:24:27.025866200Z",
     "start_time": "2025-09-29T15:24:26.916282Z"
    }
   },
   "cell_type": "code",
   "source": [
    "object Constants {\n",
    "    const val CONSTANT2 = \"object constant\"\n",
    "}\n",
    "val foo = Constants.CONSTANT2\n",
    "println(foo)"
   ],
   "outputs": [
    {
     "name": "stdout",
     "output_type": "stream",
     "text": [
      "object constant\r\n"
     ]
    }
   ],
   "execution_count": 25
  },
  {
   "metadata": {
    "ExecuteTime": {
     "end_time": "2025-09-29T15:23:57.984196700Z",
     "start_time": "2025-09-29T15:23:57.875131600Z"
    }
   },
   "cell_type": "code",
   "source": [
    "class MyClass {\n",
    "    companion object {\n",
    "        const val CONSTANT3 = \"constant in companion\"\n",
    "    }\n",
    "}"
   ],
   "outputs": [],
   "execution_count": 23
  },
  {
   "metadata": {
    "ExecuteTime": {
     "end_time": "2025-09-29T15:25:40.126275Z",
     "start_time": "2025-09-29T15:25:40.050905100Z"
    }
   },
   "cell_type": "code",
   "source": [
    "//fun String.hasSpaces(): Boolean {\n",
    "//    val found = this.indexOf(' ')\n",
    "//// also valid: this.indexOf(\" \")\n",
    "//// returns positive number index in String or -1 if not found\n",
    "//    return found != -1\n",
    "//}\n",
    "\n",
    "fun String.hasSpaces() = indexOf(\" \") != -1\n",
    "println(\"helloworld\".hasSpaces())"
   ],
   "outputs": [
    {
     "name": "stdout",
     "output_type": "stream",
     "text": [
      "false\r\n"
     ]
    }
   ],
   "execution_count": 29
  },
  {
   "metadata": {
    "ExecuteTime": {
     "end_time": "2025-09-29T15:26:08.097902700Z",
     "start_time": "2025-09-29T15:26:08.033744900Z"
    }
   },
   "cell_type": "code",
   "source": [
    "class AquariumPlant(val color: String, private val size: Int)\n",
    "fun AquariumPlant.isRed() = color == \"red\"    // OK\n",
    "fun AquariumPlant.isBig() = size > 50\n",
    "// gives error"
   ],
   "outputs": [
    {
     "ename": "org.jetbrains.kotlinx.jupyter.exceptions.ReplCompilerException",
     "evalue": "at Cell In[30], line 3, column 29: Cannot access 'size': it is private in 'AquariumPlant'",
     "output_type": "error",
     "traceback": [
      "org.jetbrains.kotlinx.jupyter.exceptions.ReplCompilerException: at Cell In[30], line 3, column 29: Cannot access 'size': it is private in 'AquariumPlant'",
      "\tat org.jetbrains.kotlinx.jupyter.repl.impl.JupyterCompilerImpl.compileSync(JupyterCompilerImpl.kt:151)",
      "\tat org.jetbrains.kotlinx.jupyter.repl.impl.InternalEvaluatorImpl.eval(InternalEvaluatorImpl.kt:126)",
      "\tat org.jetbrains.kotlinx.jupyter.repl.impl.CellExecutorImpl.execute_L4Nmkdk$lambda$0$0(CellExecutorImpl.kt:80)",
      "\tat org.jetbrains.kotlinx.jupyter.repl.impl.ReplForJupyterImpl.withHost(ReplForJupyterImpl.kt:791)",
      "\tat org.jetbrains.kotlinx.jupyter.repl.impl.CellExecutorImpl.execute-L4Nmkdk(CellExecutorImpl.kt:78)",
      "\tat org.jetbrains.kotlinx.jupyter.repl.execution.CellExecutor.execute-L4Nmkdk$default(CellExecutor.kt:14)",
      "\tat org.jetbrains.kotlinx.jupyter.repl.impl.ReplForJupyterImpl.evaluateUserCode-wNURfNM(ReplForJupyterImpl.kt:616)",
      "\tat org.jetbrains.kotlinx.jupyter.repl.impl.ReplForJupyterImpl.evalExImpl(ReplForJupyterImpl.kt:474)",
      "\tat org.jetbrains.kotlinx.jupyter.repl.impl.ReplForJupyterImpl.evalEx$lambda$0(ReplForJupyterImpl.kt:468)",
      "\tat org.jetbrains.kotlinx.jupyter.repl.impl.ReplForJupyterImpl.withEvalContext(ReplForJupyterImpl.kt:450)",
      "\tat org.jetbrains.kotlinx.jupyter.repl.impl.ReplForJupyterImpl.evalEx(ReplForJupyterImpl.kt:467)",
      "\tat org.jetbrains.kotlinx.jupyter.messaging.IdeCompatibleMessageRequestProcessor.processExecuteRequest$lambda$0$0$0(IdeCompatibleMessageRequestProcessor.kt:160)",
      "\tat org.jetbrains.kotlinx.jupyter.streams.BlockingSubstitutionEngine.withDataSubstitution(SubstitutionEngine.kt:70)",
      "\tat org.jetbrains.kotlinx.jupyter.streams.StreamSubstitutionManager.withSubstitutedStreams(StreamSubstitutionManager.kt:118)",
      "\tat org.jetbrains.kotlinx.jupyter.messaging.IdeCompatibleMessageRequestProcessor.withForkedIn(IdeCompatibleMessageRequestProcessor.kt:350)",
      "\tat org.jetbrains.kotlinx.jupyter.messaging.IdeCompatibleMessageRequestProcessor.evalWithIO$lambda$0$0(IdeCompatibleMessageRequestProcessor.kt:363)",
      "\tat org.jetbrains.kotlinx.jupyter.streams.BlockingSubstitutionEngine.withDataSubstitution(SubstitutionEngine.kt:70)",
      "\tat org.jetbrains.kotlinx.jupyter.streams.StreamSubstitutionManager.withSubstitutedStreams(StreamSubstitutionManager.kt:118)",
      "\tat org.jetbrains.kotlinx.jupyter.messaging.IdeCompatibleMessageRequestProcessor.withForkedErr(IdeCompatibleMessageRequestProcessor.kt:340)",
      "\tat org.jetbrains.kotlinx.jupyter.messaging.IdeCompatibleMessageRequestProcessor.evalWithIO$lambda$0(IdeCompatibleMessageRequestProcessor.kt:362)",
      "\tat org.jetbrains.kotlinx.jupyter.streams.BlockingSubstitutionEngine.withDataSubstitution(SubstitutionEngine.kt:70)",
      "\tat org.jetbrains.kotlinx.jupyter.streams.StreamSubstitutionManager.withSubstitutedStreams(StreamSubstitutionManager.kt:118)",
      "\tat org.jetbrains.kotlinx.jupyter.messaging.IdeCompatibleMessageRequestProcessor.withForkedOut(IdeCompatibleMessageRequestProcessor.kt:333)",
      "\tat org.jetbrains.kotlinx.jupyter.messaging.IdeCompatibleMessageRequestProcessor.evalWithIO(IdeCompatibleMessageRequestProcessor.kt:361)",
      "\tat org.jetbrains.kotlinx.jupyter.messaging.IdeCompatibleMessageRequestProcessor.processExecuteRequest$lambda$0$0(IdeCompatibleMessageRequestProcessor.kt:159)",
      "\tat org.jetbrains.kotlinx.jupyter.execution.JupyterExecutorImpl$Task.execute(JupyterExecutorImpl.kt:41)",
      "\tat org.jetbrains.kotlinx.jupyter.execution.JupyterExecutorImpl.executorThread$lambda$0(JupyterExecutorImpl.kt:81)",
      "\tat kotlin.concurrent.ThreadsKt$thread$thread$1.run(Thread.kt:30)",
      ""
     ]
    }
   ],
   "execution_count": 30
  },
  {
   "metadata": {
    "ExecuteTime": {
     "end_time": "2025-09-29T15:26:48.231657800Z",
     "start_time": "2025-09-29T15:26:48.068660800Z"
    }
   },
   "cell_type": "code",
   "source": [
    "open class AquariumPlant(val color: String, private val size: Int)\n",
    "class GreenLeafyPlant(size: Int) : AquariumPlant(\"green\", size)\n",
    "fun AquariumPlant.print() = println(\"AquariumPlant\")\n",
    "fun GreenLeafyPlant.print() = println(\"GreenLeafyPlant\")\n",
    "val plant = GreenLeafyPlant(size = 10)\n",
    "plant.print()\n",
    "println(\"\\n\")\n",
    "val aquariumPlant: AquariumPlant = plant\n",
    "aquariumPlant.print()"
   ],
   "outputs": [
    {
     "name": "stdout",
     "output_type": "stream",
     "text": [
      "GreenLeafyPlant\r\n",
      "\n",
      "\r\n",
      "AquariumPlant\r\n"
     ]
    }
   ],
   "execution_count": 31
  },
  {
   "metadata": {
    "ExecuteTime": {
     "end_time": "2025-09-29T15:27:36.803996700Z",
     "start_time": "2025-09-29T15:27:36.644405Z"
    }
   },
   "cell_type": "code",
   "source": [
    "val AquariumPlant.isGreen: Boolean\n",
    "    get() = color == \"green\"\n",
    "aquariumPlant.isGreen"
   ],
   "outputs": [
    {
     "data": {
      "text/plain": [
       "true"
      ]
     },
     "execution_count": 32,
     "metadata": {},
     "output_type": "execute_result"
    }
   ],
   "execution_count": 32
  },
  {
   "metadata": {
    "ExecuteTime": {
     "end_time": "2025-09-29T15:27:49.722437800Z",
     "start_time": "2025-09-29T15:27:49.555618900Z"
    }
   },
   "cell_type": "code",
   "source": [
    "fun AquariumPlant?.pull() {\n",
    "    this?.apply {\n",
    "        println(\"removing $this\")\n",
    "    }\n",
    "}\n",
    "val plant: AquariumPlant? = null\n",
    "plant.pull()"
   ],
   "outputs": [],
   "execution_count": 33
  }
 ],
 "metadata": {
  "kernelspec": {
   "display_name": "Kotlin",
   "language": "kotlin",
   "name": "kotlin"
  },
  "language_info": {
   "name": "kotlin",
   "version": "2.2.20-Beta2",
   "mimetype": "text/x-kotlin",
   "file_extension": ".kt",
   "pygments_lexer": "kotlin",
   "codemirror_mode": "text/x-kotlin",
   "nbconvert_exporter": ""
  }
 },
 "nbformat": 4,
 "nbformat_minor": 0
}
